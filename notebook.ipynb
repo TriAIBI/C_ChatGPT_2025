{
 "cells": [
  {
   "cell_type": "code",
   "execution_count": 7,
   "metadata": {},
   "outputs": [],
   "source": [
    "from langchain.chat_models import ChatOpenAI\n",
    "from langchain.prompts import ChatPromptTemplate\n",
    "from langchain.callbacks import StreamingStdOutCallbackHandler\n",
    "\n",
    "chat = ChatOpenAI(\n",
    "    temperature=0.1,\n",
    "    streaming=True,\n",
    "    callbacks=[\n",
    "        StreamingStdOutCallbackHandler(),\n",
    "    ],\n",
    ")\n",
    "\n",
    "haiku_prompt = ChatPromptTemplate.from_messages(\n",
    "    [\n",
    "        (\n",
    "            \"system\",\n",
    "            \"\",\n",
    "        ),\n",
    "        (\"human\", \"I want to write  the poem about {programlang} prgramming language.\"),\n",
    "    ]\n",
    ")\n",
    "\n",
    "haiku_chain = haiku_prompt | chat\n"
   ]
  },
  {
   "cell_type": "code",
   "execution_count": 8,
   "metadata": {},
   "outputs": [
    {
     "name": "stdout",
     "output_type": "stream",
     "text": [
      "In the world of code, a language so grand,\n",
      "Python stands tall, a language in demand.\n",
      "Its syntax so clean, its readability clear,\n",
      "A tool for programmers, a language so dear.\n",
      "\n",
      "With indentation as its guiding light,\n",
      "Python code flows, elegant and bright.\n",
      "From web development to data science too,\n",
      "Python's versatility shines through.\n",
      "\n",
      "Libraries abound, for every need,\n",
      "Pandas, NumPy, and Matplotlib indeed.\n",
      "Machine learning, AI, and more,\n",
      "Python's capabilities continue to soar.\n",
      "\n",
      "So here's to Python, a language so fine,\n",
      "Empowering developers, one line at a time.\n",
      "In the realm of programming, it reigns supreme,\n",
      "A language of power, a coder's dream.This poem beautifully captures the essence of Python programming language in a haiku form. Haiku is a traditional form of Japanese poetry that consists of three lines with a 5-7-5 syllable pattern. The poem highlights Python's clean syntax, readability, and versatility in various fields such as web development and data science. It also mentions popular libraries like Pandas, NumPy, and Matplotlib that enhance Python's capabilities in machine learning and AI. The haiku celebrates Python as a powerful and empowering language for developers, reflecting its widespread popularity and impact in the realm of programming."
     ]
    },
    {
     "data": {
      "text/plain": [
       "AIMessageChunk(content=\"This poem beautifully captures the essence of Python programming language in a haiku form. Haiku is a traditional form of Japanese poetry that consists of three lines with a 5-7-5 syllable pattern. The poem highlights Python's clean syntax, readability, and versatility in various fields such as web development and data science. It also mentions popular libraries like Pandas, NumPy, and Matplotlib that enhance Python's capabilities in machine learning and AI. The haiku celebrates Python as a powerful and empowering language for developers, reflecting its widespread popularity and impact in the realm of programming.\")"
      ]
     },
     "execution_count": 8,
     "metadata": {},
     "output_type": "execute_result"
    }
   ],
   "source": [
    "haiku_explain_prompt = ChatPromptTemplate.from_messages(\n",
    "    [\n",
    "        (\n",
    "            \"system\",\n",
    "            \"You are a haiku expert who can explain about the haiku associated with the specific programming language.\",\n",
    "        ),\n",
    "        (\"human\", \"{haiku}\"),\n",
    "    ]\n",
    ")\n",
    "\n",
    "\n",
    "haiku_explain_chain = haiku_explain_prompt | chat\n",
    "\n",
    "\n",
    "final_chain = {\"haiku\": haiku_chain} | haiku_explain_chain\n",
    "\n",
    "final_chain.invoke({\"programlang\": \"python\"})"
   ]
  }
 ],
 "metadata": {
  "kernelspec": {
   "display_name": "env",
   "language": "python",
   "name": "python3"
  },
  "language_info": {
   "codemirror_mode": {
    "name": "ipython",
    "version": 3
   },
   "file_extension": ".py",
   "mimetype": "text/x-python",
   "name": "python",
   "nbconvert_exporter": "python",
   "pygments_lexer": "ipython3",
   "version": "3.11.6"
  }
 },
 "nbformat": 4,
 "nbformat_minor": 2
}
