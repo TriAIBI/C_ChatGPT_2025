{
 "cells": [
  {
   "cell_type": "code",
   "execution_count": 1,
   "metadata": {},
   "outputs": [],
   "source": [
    "from langchain.chat_models import ChatOpenAI\n",
    "from langchain.prompts import ChatPromptTemplate\n",
    "from langchain.callbacks import StreamingStdOutCallbackHandler\n",
    "\n",
    "chat = ChatOpenAI(\n",
    "    temperature=0.1,\n",
    "    streaming=True,\n",
    "    callbacks=[\n",
    "        StreamingStdOutCallbackHandler(),\n",
    "    ],\n",
    ")\n",
    "\n",
    "haiku_prompt = ChatPromptTemplate.from_messages(\n",
    "    [\n",
    "        (\n",
    "            \"system\",\n",
    "            \"\",\n",
    "        ),\n",
    "        (\"human\", \"I want to write  the poem about {programlang} prgramming language.\"),\n",
    "    ]\n",
    ")\n",
    "\n",
    "haiku_chain = haiku_prompt | chat\n"
   ]
  },
  {
   "cell_type": "code",
   "execution_count": 5,
   "metadata": {},
   "outputs": [
    {
     "name": "stdout",
     "output_type": "stream",
     "text": [
      "In the world of data, where queries reign supreme,\n",
      "There lies a language, powerful and keen.\n",
      "SQL, the tool of the database king,\n",
      "Unraveling insights with every string.\n",
      "\n",
      "Tables and rows, columns and keys,\n",
      "SQL unlocks the secrets with ease.\n",
      "Select, insert, update, delete,\n",
      "Manipulating data, oh so neat.\n",
      "\n",
      "Joins and unions, subqueries too,\n",
      "SQL can handle any task you pursue.\n",
      "Aggregate functions, group by clause,\n",
      "Sorting and filtering without a pause.\n",
      "\n",
      "Structured Query Language, a true work of art,\n",
      "Bringing order to the database heart.\n",
      "So let us raise a toast to SQL,\n",
      "For in the world of data, it truly excels.Haiku is a form of traditional Japanese poetry that consists of three lines with a 5-7-5 syllable pattern. When it comes to SQL, a programming language used for managing and manipulating relational databases, haikus can capture the essence of its power and versatility. \n",
      "\n",
      "In the haiku you provided, the beauty and functionality of SQL are elegantly portrayed. The structured and concise nature of SQL is reflected in the structured format of the haiku itself. The mention of tables, rows, columns, keys, queries, joins, unions, subqueries, aggregate functions, and sorting techniques showcases the depth and breadth of SQL capabilities.\n",
      "\n",
      "Just like a well-crafted haiku, SQL efficiently conveys complex operations and insights in a succinct manner. The haiku celebrates SQL as a powerful tool for unraveling data mysteries and bringing order to the database world. It highlights SQL's ability to handle various tasks seamlessly, making it a true work of art in the realm of data management.\n",
      "\n",
      "Overall, the haiku beautifully captures the essence of SQL as a versatile and essential language for working with databases, showcasing its elegance and efficiency in managing data effectively."
     ]
    },
    {
     "data": {
      "text/plain": [
       "AIMessageChunk(content=\"Haiku is a form of traditional Japanese poetry that consists of three lines with a 5-7-5 syllable pattern. When it comes to SQL, a programming language used for managing and manipulating relational databases, haikus can capture the essence of its power and versatility. \\n\\nIn the haiku you provided, the beauty and functionality of SQL are elegantly portrayed. The structured and concise nature of SQL is reflected in the structured format of the haiku itself. The mention of tables, rows, columns, keys, queries, joins, unions, subqueries, aggregate functions, and sorting techniques showcases the depth and breadth of SQL capabilities.\\n\\nJust like a well-crafted haiku, SQL efficiently conveys complex operations and insights in a succinct manner. The haiku celebrates SQL as a powerful tool for unraveling data mysteries and bringing order to the database world. It highlights SQL's ability to handle various tasks seamlessly, making it a true work of art in the realm of data management.\\n\\nOverall, the haiku beautifully captures the essence of SQL as a versatile and essential language for working with databases, showcasing its elegance and efficiency in managing data effectively.\")"
      ]
     },
     "execution_count": 5,
     "metadata": {},
     "output_type": "execute_result"
    }
   ],
   "source": [
    "haiku_explain_prompt = ChatPromptTemplate.from_messages(\n",
    "    [\n",
    "        (\n",
    "            \"system\",\n",
    "            \"You are a haiku expert who can explain about the haiku associated with the specific programming language.\",\n",
    "        ),\n",
    "        (\"human\", \"{haiku}\"),\n",
    "    ]\n",
    ")\n",
    "\n",
    "\n",
    "haiku_explain_chain = haiku_explain_prompt | chat\n",
    "\n",
    "\n",
    "final_chain = {\"haiku\": haiku_chain} | haiku_explain_chain\n",
    "\n",
    "final_chain.invoke({\"programlang\": \"SQL\"})"
   ]
  }
 ],
 "metadata": {
  "kernelspec": {
   "display_name": "env",
   "language": "python",
   "name": "python3"
  },
  "language_info": {
   "codemirror_mode": {
    "name": "ipython",
    "version": 3
   },
   "file_extension": ".py",
   "mimetype": "text/x-python",
   "name": "python",
   "nbconvert_exporter": "python",
   "pygments_lexer": "ipython3",
   "version": "3.11.6"
  }
 },
 "nbformat": 4,
 "nbformat_minor": 2
}
